{
 "cells": [
  {
   "cell_type": "code",
   "execution_count": 4,
   "id": "76c9a1a3",
   "metadata": {},
   "outputs": [],
   "source": [
    "import numpy as np\n",
    "import pandas as pd\n",
    "\n",
    "import matplotlib.pyplot as plt\n",
    "import seaborn as sns\n",
    "\n",
    "from sklearn import metrics\n",
    "%matplotlib inline\n",
    "\n",
    "from sklearn.metrics import accuracy_score\n",
    "from sklearn.metrics import matthews_corrcoef\n",
    "from sklearn.metrics import f1_score\n",
    "from sklearn.metrics import confusion_matrix, classification_report"
   ]
  },
  {
   "cell_type": "code",
   "execution_count": 5,
   "id": "8ca31853",
   "metadata": {},
   "outputs": [
    {
     "data": {
      "text/html": [
       "<div>\n",
       "<style scoped>\n",
       "    .dataframe tbody tr th:only-of-type {\n",
       "        vertical-align: middle;\n",
       "    }\n",
       "\n",
       "    .dataframe tbody tr th {\n",
       "        vertical-align: top;\n",
       "    }\n",
       "\n",
       "    .dataframe thead th {\n",
       "        text-align: right;\n",
       "    }\n",
       "</style>\n",
       "<table border=\"1\" class=\"dataframe\">\n",
       "  <thead>\n",
       "    <tr style=\"text-align: right;\">\n",
       "      <th></th>\n",
       "      <th>SUBDIVISION</th>\n",
       "      <th>YEAR</th>\n",
       "      <th>JAN</th>\n",
       "      <th>FEB</th>\n",
       "      <th>MAR</th>\n",
       "      <th>APR</th>\n",
       "      <th>MAY</th>\n",
       "      <th>JUN</th>\n",
       "      <th>JUL</th>\n",
       "      <th>AUG</th>\n",
       "      <th>SEP</th>\n",
       "      <th>OCT</th>\n",
       "      <th>NOV</th>\n",
       "      <th>DEC</th>\n",
       "      <th>ANNUAL</th>\n",
       "      <th>Jan-Feb</th>\n",
       "      <th>Mar-May</th>\n",
       "      <th>Jun-Sep</th>\n",
       "      <th>Oct-Dec</th>\n",
       "    </tr>\n",
       "  </thead>\n",
       "  <tbody>\n",
       "    <tr>\n",
       "      <th>0</th>\n",
       "      <td>ANDAMAN &amp; NICOBAR ISLANDS</td>\n",
       "      <td>1901</td>\n",
       "      <td>49.2</td>\n",
       "      <td>87.1</td>\n",
       "      <td>29.2</td>\n",
       "      <td>2.3</td>\n",
       "      <td>528.8</td>\n",
       "      <td>517.5</td>\n",
       "      <td>365.1</td>\n",
       "      <td>481.1</td>\n",
       "      <td>332.6</td>\n",
       "      <td>388.5</td>\n",
       "      <td>558.2</td>\n",
       "      <td>33.6</td>\n",
       "      <td>3373.2</td>\n",
       "      <td>136.3</td>\n",
       "      <td>560.3</td>\n",
       "      <td>1696.3</td>\n",
       "      <td>980.3</td>\n",
       "    </tr>\n",
       "    <tr>\n",
       "      <th>1</th>\n",
       "      <td>ANDAMAN &amp; NICOBAR ISLANDS</td>\n",
       "      <td>1902</td>\n",
       "      <td>0.0</td>\n",
       "      <td>159.8</td>\n",
       "      <td>12.2</td>\n",
       "      <td>0.0</td>\n",
       "      <td>446.1</td>\n",
       "      <td>537.1</td>\n",
       "      <td>228.9</td>\n",
       "      <td>753.7</td>\n",
       "      <td>666.2</td>\n",
       "      <td>197.2</td>\n",
       "      <td>359.0</td>\n",
       "      <td>160.5</td>\n",
       "      <td>3520.7</td>\n",
       "      <td>159.8</td>\n",
       "      <td>458.3</td>\n",
       "      <td>2185.9</td>\n",
       "      <td>716.7</td>\n",
       "    </tr>\n",
       "    <tr>\n",
       "      <th>2</th>\n",
       "      <td>ANDAMAN &amp; NICOBAR ISLANDS</td>\n",
       "      <td>1903</td>\n",
       "      <td>12.7</td>\n",
       "      <td>144.0</td>\n",
       "      <td>0.0</td>\n",
       "      <td>1.0</td>\n",
       "      <td>235.1</td>\n",
       "      <td>479.9</td>\n",
       "      <td>728.4</td>\n",
       "      <td>326.7</td>\n",
       "      <td>339.0</td>\n",
       "      <td>181.2</td>\n",
       "      <td>284.4</td>\n",
       "      <td>225.0</td>\n",
       "      <td>2957.4</td>\n",
       "      <td>156.7</td>\n",
       "      <td>236.1</td>\n",
       "      <td>1874.0</td>\n",
       "      <td>690.6</td>\n",
       "    </tr>\n",
       "    <tr>\n",
       "      <th>3</th>\n",
       "      <td>ANDAMAN &amp; NICOBAR ISLANDS</td>\n",
       "      <td>1904</td>\n",
       "      <td>9.4</td>\n",
       "      <td>14.7</td>\n",
       "      <td>0.0</td>\n",
       "      <td>202.4</td>\n",
       "      <td>304.5</td>\n",
       "      <td>495.1</td>\n",
       "      <td>502.0</td>\n",
       "      <td>160.1</td>\n",
       "      <td>820.4</td>\n",
       "      <td>222.2</td>\n",
       "      <td>308.7</td>\n",
       "      <td>40.1</td>\n",
       "      <td>3079.6</td>\n",
       "      <td>24.1</td>\n",
       "      <td>506.9</td>\n",
       "      <td>1977.6</td>\n",
       "      <td>571.0</td>\n",
       "    </tr>\n",
       "    <tr>\n",
       "      <th>4</th>\n",
       "      <td>ANDAMAN &amp; NICOBAR ISLANDS</td>\n",
       "      <td>1905</td>\n",
       "      <td>1.3</td>\n",
       "      <td>0.0</td>\n",
       "      <td>3.3</td>\n",
       "      <td>26.9</td>\n",
       "      <td>279.5</td>\n",
       "      <td>628.7</td>\n",
       "      <td>368.7</td>\n",
       "      <td>330.5</td>\n",
       "      <td>297.0</td>\n",
       "      <td>260.7</td>\n",
       "      <td>25.4</td>\n",
       "      <td>344.7</td>\n",
       "      <td>2566.7</td>\n",
       "      <td>1.3</td>\n",
       "      <td>309.7</td>\n",
       "      <td>1624.9</td>\n",
       "      <td>630.8</td>\n",
       "    </tr>\n",
       "  </tbody>\n",
       "</table>\n",
       "</div>"
      ],
      "text/plain": [
       "                 SUBDIVISION  YEAR   JAN    FEB   MAR    APR    MAY    JUN  \\\n",
       "0  ANDAMAN & NICOBAR ISLANDS  1901  49.2   87.1  29.2    2.3  528.8  517.5   \n",
       "1  ANDAMAN & NICOBAR ISLANDS  1902   0.0  159.8  12.2    0.0  446.1  537.1   \n",
       "2  ANDAMAN & NICOBAR ISLANDS  1903  12.7  144.0   0.0    1.0  235.1  479.9   \n",
       "3  ANDAMAN & NICOBAR ISLANDS  1904   9.4   14.7   0.0  202.4  304.5  495.1   \n",
       "4  ANDAMAN & NICOBAR ISLANDS  1905   1.3    0.0   3.3   26.9  279.5  628.7   \n",
       "\n",
       "     JUL    AUG    SEP    OCT    NOV    DEC  ANNUAL  Jan-Feb  Mar-May  \\\n",
       "0  365.1  481.1  332.6  388.5  558.2   33.6  3373.2    136.3    560.3   \n",
       "1  228.9  753.7  666.2  197.2  359.0  160.5  3520.7    159.8    458.3   \n",
       "2  728.4  326.7  339.0  181.2  284.4  225.0  2957.4    156.7    236.1   \n",
       "3  502.0  160.1  820.4  222.2  308.7   40.1  3079.6     24.1    506.9   \n",
       "4  368.7  330.5  297.0  260.7   25.4  344.7  2566.7      1.3    309.7   \n",
       "\n",
       "   Jun-Sep  Oct-Dec  \n",
       "0   1696.3    980.3  \n",
       "1   2185.9    716.7  \n",
       "2   1874.0    690.6  \n",
       "3   1977.6    571.0  \n",
       "4   1624.9    630.8  "
      ]
     },
     "execution_count": 5,
     "metadata": {},
     "output_type": "execute_result"
    }
   ],
   "source": [
    "df = pd.read_csv(\"rainfall in india 1901-2015.csv\")\n",
    "df.head()"
   ]
  },
  {
   "cell_type": "markdown",
   "id": "20d83109",
   "metadata": {},
   "source": [
    "## Modelling"
   ]
  },
  {
   "cell_type": "code",
   "execution_count": 6,
   "id": "dbdd5006",
   "metadata": {},
   "outputs": [
    {
     "data": {
      "text/plain": [
       "36"
      ]
     },
     "execution_count": 6,
     "metadata": {},
     "output_type": "execute_result"
    }
   ],
   "source": [
    "df[\"SUBDIVISION\"].nunique()"
   ]
  },
  {
   "cell_type": "code",
   "execution_count": 7,
   "id": "1f8ecf6a",
   "metadata": {},
   "outputs": [
    {
     "name": "stderr",
     "output_type": "stream",
     "text": [
      "C:\\Users\\Admin\\AppData\\Local\\Temp\\ipykernel_12724\\1728204607.py:1: FutureWarning: Indexing with multiple keys (implicitly converted to a tuple of keys) will be deprecated, use a list instead.\n",
      "  group = df.groupby('SUBDIVISION')['YEAR','JAN','FEB','MAR','APR','MAY','JUN','JUL','AUG','SEP','OCT','NOV','DEC']\n"
     ]
    },
    {
     "data": {
      "text/html": [
       "<div>\n",
       "<style scoped>\n",
       "    .dataframe tbody tr th:only-of-type {\n",
       "        vertical-align: middle;\n",
       "    }\n",
       "\n",
       "    .dataframe tbody tr th {\n",
       "        vertical-align: top;\n",
       "    }\n",
       "\n",
       "    .dataframe thead th {\n",
       "        text-align: right;\n",
       "    }\n",
       "</style>\n",
       "<table border=\"1\" class=\"dataframe\">\n",
       "  <thead>\n",
       "    <tr style=\"text-align: right;\">\n",
       "      <th></th>\n",
       "      <th>YEAR</th>\n",
       "      <th>JAN</th>\n",
       "      <th>FEB</th>\n",
       "      <th>MAR</th>\n",
       "      <th>APR</th>\n",
       "      <th>MAY</th>\n",
       "      <th>JUN</th>\n",
       "      <th>JUL</th>\n",
       "      <th>AUG</th>\n",
       "      <th>SEP</th>\n",
       "      <th>OCT</th>\n",
       "      <th>NOV</th>\n",
       "      <th>DEC</th>\n",
       "    </tr>\n",
       "  </thead>\n",
       "  <tbody>\n",
       "    <tr>\n",
       "      <th>2852</th>\n",
       "      <td>1901</td>\n",
       "      <td>36.8</td>\n",
       "      <td>39.9</td>\n",
       "      <td>30.9</td>\n",
       "      <td>26.1</td>\n",
       "      <td>7.3</td>\n",
       "      <td>129.7</td>\n",
       "      <td>295.3</td>\n",
       "      <td>368.8</td>\n",
       "      <td>123.4</td>\n",
       "      <td>35.2</td>\n",
       "      <td>0.0</td>\n",
       "      <td>0.0</td>\n",
       "    </tr>\n",
       "    <tr>\n",
       "      <th>2853</th>\n",
       "      <td>1902</td>\n",
       "      <td>1.6</td>\n",
       "      <td>0.1</td>\n",
       "      <td>0.0</td>\n",
       "      <td>6.5</td>\n",
       "      <td>4.1</td>\n",
       "      <td>38.0</td>\n",
       "      <td>270.7</td>\n",
       "      <td>204.7</td>\n",
       "      <td>150.9</td>\n",
       "      <td>29.6</td>\n",
       "      <td>16.1</td>\n",
       "      <td>26.7</td>\n",
       "    </tr>\n",
       "    <tr>\n",
       "      <th>2854</th>\n",
       "      <td>1903</td>\n",
       "      <td>5.2</td>\n",
       "      <td>4.0</td>\n",
       "      <td>0.1</td>\n",
       "      <td>2.5</td>\n",
       "      <td>37.8</td>\n",
       "      <td>121.2</td>\n",
       "      <td>475.5</td>\n",
       "      <td>325.5</td>\n",
       "      <td>154.8</td>\n",
       "      <td>100.8</td>\n",
       "      <td>2.0</td>\n",
       "      <td>0.0</td>\n",
       "    </tr>\n",
       "    <tr>\n",
       "      <th>2855</th>\n",
       "      <td>1904</td>\n",
       "      <td>4.3</td>\n",
       "      <td>2.4</td>\n",
       "      <td>12.9</td>\n",
       "      <td>0.2</td>\n",
       "      <td>14.8</td>\n",
       "      <td>148.9</td>\n",
       "      <td>158.3</td>\n",
       "      <td>151.8</td>\n",
       "      <td>196.9</td>\n",
       "      <td>61.7</td>\n",
       "      <td>0.0</td>\n",
       "      <td>0.9</td>\n",
       "    </tr>\n",
       "    <tr>\n",
       "      <th>2856</th>\n",
       "      <td>1905</td>\n",
       "      <td>7.3</td>\n",
       "      <td>12.7</td>\n",
       "      <td>12.4</td>\n",
       "      <td>16.2</td>\n",
       "      <td>14.0</td>\n",
       "      <td>81.0</td>\n",
       "      <td>254.5</td>\n",
       "      <td>216.3</td>\n",
       "      <td>321.3</td>\n",
       "      <td>6.0</td>\n",
       "      <td>0.2</td>\n",
       "      <td>0.0</td>\n",
       "    </tr>\n",
       "  </tbody>\n",
       "</table>\n",
       "</div>"
      ],
      "text/plain": [
       "      YEAR   JAN   FEB   MAR   APR   MAY    JUN    JUL    AUG    SEP    OCT  \\\n",
       "2852  1901  36.8  39.9  30.9  26.1   7.3  129.7  295.3  368.8  123.4   35.2   \n",
       "2853  1902   1.6   0.1   0.0   6.5   4.1   38.0  270.7  204.7  150.9   29.6   \n",
       "2854  1903   5.2   4.0   0.1   2.5  37.8  121.2  475.5  325.5  154.8  100.8   \n",
       "2855  1904   4.3   2.4  12.9   0.2  14.8  148.9  158.3  151.8  196.9   61.7   \n",
       "2856  1905   7.3  12.7  12.4  16.2  14.0   81.0  254.5  216.3  321.3    6.0   \n",
       "\n",
       "       NOV   DEC  \n",
       "2852   0.0   0.0  \n",
       "2853  16.1  26.7  \n",
       "2854   2.0   0.0  \n",
       "2855   0.0   0.9  \n",
       "2856   0.2   0.0  "
      ]
     },
     "execution_count": 7,
     "metadata": {},
     "output_type": "execute_result"
    }
   ],
   "source": [
    "group = df.groupby('SUBDIVISION')['YEAR','JAN','FEB','MAR','APR','MAY','JUN','JUL','AUG','SEP','OCT','NOV','DEC']\n",
    "df=group.get_group(('VIDARBHA'))\n",
    "df.head()"
   ]
  },
  {
   "cell_type": "code",
   "execution_count": 8,
   "id": "3d8eeb1a",
   "metadata": {},
   "outputs": [
    {
     "data": {
      "text/html": [
       "<div>\n",
       "<style scoped>\n",
       "    .dataframe tbody tr th:only-of-type {\n",
       "        vertical-align: middle;\n",
       "    }\n",
       "\n",
       "    .dataframe tbody tr th {\n",
       "        vertical-align: top;\n",
       "    }\n",
       "\n",
       "    .dataframe thead th {\n",
       "        text-align: right;\n",
       "    }\n",
       "</style>\n",
       "<table border=\"1\" class=\"dataframe\">\n",
       "  <thead>\n",
       "    <tr style=\"text-align: right;\">\n",
       "      <th></th>\n",
       "      <th>index</th>\n",
       "      <th>YEAR</th>\n",
       "      <th>variable</th>\n",
       "      <th>value</th>\n",
       "    </tr>\n",
       "  </thead>\n",
       "  <tbody>\n",
       "    <tr>\n",
       "      <th>0</th>\n",
       "      <td>0</td>\n",
       "      <td>1901</td>\n",
       "      <td>JAN</td>\n",
       "      <td>36.8</td>\n",
       "    </tr>\n",
       "    <tr>\n",
       "      <th>1</th>\n",
       "      <td>1</td>\n",
       "      <td>1902</td>\n",
       "      <td>JAN</td>\n",
       "      <td>1.6</td>\n",
       "    </tr>\n",
       "    <tr>\n",
       "      <th>2</th>\n",
       "      <td>2</td>\n",
       "      <td>1903</td>\n",
       "      <td>JAN</td>\n",
       "      <td>5.2</td>\n",
       "    </tr>\n",
       "    <tr>\n",
       "      <th>3</th>\n",
       "      <td>3</td>\n",
       "      <td>1904</td>\n",
       "      <td>JAN</td>\n",
       "      <td>4.3</td>\n",
       "    </tr>\n",
       "    <tr>\n",
       "      <th>4</th>\n",
       "      <td>4</td>\n",
       "      <td>1905</td>\n",
       "      <td>JAN</td>\n",
       "      <td>7.3</td>\n",
       "    </tr>\n",
       "  </tbody>\n",
       "</table>\n",
       "</div>"
      ],
      "text/plain": [
       "   index  YEAR variable  value\n",
       "0      0  1901      JAN   36.8\n",
       "1      1  1902      JAN    1.6\n",
       "2      2  1903      JAN    5.2\n",
       "3      3  1904      JAN    4.3\n",
       "4      4  1905      JAN    7.3"
      ]
     },
     "execution_count": 8,
     "metadata": {},
     "output_type": "execute_result"
    }
   ],
   "source": [
    "df2=df.melt(['YEAR']).reset_index()\n",
    "df2.head()"
   ]
  },
  {
   "cell_type": "code",
   "execution_count": 9,
   "id": "2ed55db2",
   "metadata": {},
   "outputs": [
    {
     "data": {
      "text/html": [
       "<div>\n",
       "<style scoped>\n",
       "    .dataframe tbody tr th:only-of-type {\n",
       "        vertical-align: middle;\n",
       "    }\n",
       "\n",
       "    .dataframe tbody tr th {\n",
       "        vertical-align: top;\n",
       "    }\n",
       "\n",
       "    .dataframe thead th {\n",
       "        text-align: right;\n",
       "    }\n",
       "</style>\n",
       "<table border=\"1\" class=\"dataframe\">\n",
       "  <thead>\n",
       "    <tr style=\"text-align: right;\">\n",
       "      <th></th>\n",
       "      <th>index</th>\n",
       "      <th>YEAR</th>\n",
       "      <th>variable</th>\n",
       "      <th>value</th>\n",
       "    </tr>\n",
       "  </thead>\n",
       "  <tbody>\n",
       "    <tr>\n",
       "      <th>0</th>\n",
       "      <td>0</td>\n",
       "      <td>1901</td>\n",
       "      <td>JAN</td>\n",
       "      <td>36.8</td>\n",
       "    </tr>\n",
       "    <tr>\n",
       "      <th>115</th>\n",
       "      <td>115</td>\n",
       "      <td>1901</td>\n",
       "      <td>FEB</td>\n",
       "      <td>39.9</td>\n",
       "    </tr>\n",
       "    <tr>\n",
       "      <th>230</th>\n",
       "      <td>230</td>\n",
       "      <td>1901</td>\n",
       "      <td>MAR</td>\n",
       "      <td>30.9</td>\n",
       "    </tr>\n",
       "    <tr>\n",
       "      <th>345</th>\n",
       "      <td>345</td>\n",
       "      <td>1901</td>\n",
       "      <td>APR</td>\n",
       "      <td>26.1</td>\n",
       "    </tr>\n",
       "    <tr>\n",
       "      <th>460</th>\n",
       "      <td>460</td>\n",
       "      <td>1901</td>\n",
       "      <td>MAY</td>\n",
       "      <td>7.3</td>\n",
       "    </tr>\n",
       "  </tbody>\n",
       "</table>\n",
       "</div>"
      ],
      "text/plain": [
       "     index  YEAR variable  value\n",
       "0        0  1901      JAN   36.8\n",
       "115    115  1901      FEB   39.9\n",
       "230    230  1901      MAR   30.9\n",
       "345    345  1901      APR   26.1\n",
       "460    460  1901      MAY    7.3"
      ]
     },
     "execution_count": 9,
     "metadata": {},
     "output_type": "execute_result"
    }
   ],
   "source": [
    "df2= df2[['YEAR','variable','value']].reset_index().sort_values(by=['YEAR','index'])\n",
    "df2.head()"
   ]
  },
  {
   "cell_type": "code",
   "execution_count": 10,
   "id": "524a9112",
   "metadata": {},
   "outputs": [
    {
     "data": {
      "text/plain": [
       "array([1901, 1902, 1903, 1904, 1905, 1906, 1907, 1908, 1909, 1910, 1911,\n",
       "       1912, 1913, 1914, 1915, 1916, 1917, 1918, 1919, 1920, 1921, 1922,\n",
       "       1923, 1924, 1925, 1926, 1927, 1928, 1929, 1930, 1931, 1932, 1933,\n",
       "       1934, 1935, 1936, 1937, 1938, 1939, 1940, 1941, 1942, 1943, 1944,\n",
       "       1945, 1946, 1947, 1948, 1949, 1950, 1951, 1952, 1953, 1954, 1955,\n",
       "       1956, 1957, 1958, 1959, 1960, 1961, 1962, 1963, 1964, 1965, 1966,\n",
       "       1967, 1968, 1969, 1970, 1971, 1972, 1973, 1974, 1975, 1976, 1977,\n",
       "       1978, 1979, 1980, 1981, 1982, 1983, 1984, 1985, 1986, 1987, 1988,\n",
       "       1989, 1990, 1991, 1992, 1993, 1994, 1995, 1996, 1997, 1998, 1999,\n",
       "       2000, 2001, 2002, 2003, 2004, 2005, 2006, 2007, 2008, 2009, 2010,\n",
       "       2011, 2012, 2013, 2014, 2015], dtype=int64)"
      ]
     },
     "execution_count": 10,
     "metadata": {},
     "output_type": "execute_result"
    }
   ],
   "source": [
    "df2.YEAR.unique()"
   ]
  },
  {
   "cell_type": "code",
   "execution_count": 11,
   "id": "12fb7040",
   "metadata": {},
   "outputs": [],
   "source": [
    "df2.columns=['Index','Year','Month','Avg_Rainfall']"
   ]
  },
  {
   "cell_type": "code",
   "execution_count": 12,
   "id": "9f747457",
   "metadata": {},
   "outputs": [
    {
     "data": {
      "text/html": [
       "<div>\n",
       "<style scoped>\n",
       "    .dataframe tbody tr th:only-of-type {\n",
       "        vertical-align: middle;\n",
       "    }\n",
       "\n",
       "    .dataframe tbody tr th {\n",
       "        vertical-align: top;\n",
       "    }\n",
       "\n",
       "    .dataframe thead th {\n",
       "        text-align: right;\n",
       "    }\n",
       "</style>\n",
       "<table border=\"1\" class=\"dataframe\">\n",
       "  <thead>\n",
       "    <tr style=\"text-align: right;\">\n",
       "      <th></th>\n",
       "      <th>Index</th>\n",
       "      <th>Year</th>\n",
       "      <th>Month</th>\n",
       "      <th>Avg_Rainfall</th>\n",
       "    </tr>\n",
       "  </thead>\n",
       "  <tbody>\n",
       "    <tr>\n",
       "      <th>0</th>\n",
       "      <td>0</td>\n",
       "      <td>1901</td>\n",
       "      <td>JAN</td>\n",
       "      <td>36.8</td>\n",
       "    </tr>\n",
       "    <tr>\n",
       "      <th>115</th>\n",
       "      <td>115</td>\n",
       "      <td>1901</td>\n",
       "      <td>FEB</td>\n",
       "      <td>39.9</td>\n",
       "    </tr>\n",
       "    <tr>\n",
       "      <th>230</th>\n",
       "      <td>230</td>\n",
       "      <td>1901</td>\n",
       "      <td>MAR</td>\n",
       "      <td>30.9</td>\n",
       "    </tr>\n",
       "    <tr>\n",
       "      <th>345</th>\n",
       "      <td>345</td>\n",
       "      <td>1901</td>\n",
       "      <td>APR</td>\n",
       "      <td>26.1</td>\n",
       "    </tr>\n",
       "    <tr>\n",
       "      <th>460</th>\n",
       "      <td>460</td>\n",
       "      <td>1901</td>\n",
       "      <td>MAY</td>\n",
       "      <td>7.3</td>\n",
       "    </tr>\n",
       "  </tbody>\n",
       "</table>\n",
       "</div>"
      ],
      "text/plain": [
       "     Index  Year Month  Avg_Rainfall\n",
       "0        0  1901   JAN          36.8\n",
       "115    115  1901   FEB          39.9\n",
       "230    230  1901   MAR          30.9\n",
       "345    345  1901   APR          26.1\n",
       "460    460  1901   MAY           7.3"
      ]
     },
     "execution_count": 12,
     "metadata": {},
     "output_type": "execute_result"
    }
   ],
   "source": [
    "df2.head()"
   ]
  },
  {
   "cell_type": "code",
   "execution_count": 13,
   "id": "cdf034cd",
   "metadata": {},
   "outputs": [
    {
     "data": {
      "text/html": [
       "<div>\n",
       "<style scoped>\n",
       "    .dataframe tbody tr th:only-of-type {\n",
       "        vertical-align: middle;\n",
       "    }\n",
       "\n",
       "    .dataframe tbody tr th {\n",
       "        vertical-align: top;\n",
       "    }\n",
       "\n",
       "    .dataframe thead th {\n",
       "        text-align: right;\n",
       "    }\n",
       "</style>\n",
       "<table border=\"1\" class=\"dataframe\">\n",
       "  <thead>\n",
       "    <tr style=\"text-align: right;\">\n",
       "      <th></th>\n",
       "      <th>Index</th>\n",
       "      <th>Year</th>\n",
       "      <th>Month</th>\n",
       "      <th>Avg_Rainfall</th>\n",
       "    </tr>\n",
       "  </thead>\n",
       "  <tbody>\n",
       "    <tr>\n",
       "      <th>0</th>\n",
       "      <td>0</td>\n",
       "      <td>1901</td>\n",
       "      <td>1</td>\n",
       "      <td>36.8</td>\n",
       "    </tr>\n",
       "    <tr>\n",
       "      <th>115</th>\n",
       "      <td>115</td>\n",
       "      <td>1901</td>\n",
       "      <td>2</td>\n",
       "      <td>39.9</td>\n",
       "    </tr>\n",
       "    <tr>\n",
       "      <th>230</th>\n",
       "      <td>230</td>\n",
       "      <td>1901</td>\n",
       "      <td>3</td>\n",
       "      <td>30.9</td>\n",
       "    </tr>\n",
       "    <tr>\n",
       "      <th>345</th>\n",
       "      <td>345</td>\n",
       "      <td>1901</td>\n",
       "      <td>4</td>\n",
       "      <td>26.1</td>\n",
       "    </tr>\n",
       "    <tr>\n",
       "      <th>460</th>\n",
       "      <td>460</td>\n",
       "      <td>1901</td>\n",
       "      <td>5</td>\n",
       "      <td>7.3</td>\n",
       "    </tr>\n",
       "    <tr>\n",
       "      <th>575</th>\n",
       "      <td>575</td>\n",
       "      <td>1901</td>\n",
       "      <td>6</td>\n",
       "      <td>129.7</td>\n",
       "    </tr>\n",
       "    <tr>\n",
       "      <th>690</th>\n",
       "      <td>690</td>\n",
       "      <td>1901</td>\n",
       "      <td>7</td>\n",
       "      <td>295.3</td>\n",
       "    </tr>\n",
       "    <tr>\n",
       "      <th>805</th>\n",
       "      <td>805</td>\n",
       "      <td>1901</td>\n",
       "      <td>8</td>\n",
       "      <td>368.8</td>\n",
       "    </tr>\n",
       "    <tr>\n",
       "      <th>920</th>\n",
       "      <td>920</td>\n",
       "      <td>1901</td>\n",
       "      <td>9</td>\n",
       "      <td>123.4</td>\n",
       "    </tr>\n",
       "    <tr>\n",
       "      <th>1035</th>\n",
       "      <td>1035</td>\n",
       "      <td>1901</td>\n",
       "      <td>10</td>\n",
       "      <td>35.2</td>\n",
       "    </tr>\n",
       "    <tr>\n",
       "      <th>1150</th>\n",
       "      <td>1150</td>\n",
       "      <td>1901</td>\n",
       "      <td>11</td>\n",
       "      <td>0.0</td>\n",
       "    </tr>\n",
       "    <tr>\n",
       "      <th>1265</th>\n",
       "      <td>1265</td>\n",
       "      <td>1901</td>\n",
       "      <td>12</td>\n",
       "      <td>0.0</td>\n",
       "    </tr>\n",
       "  </tbody>\n",
       "</table>\n",
       "</div>"
      ],
      "text/plain": [
       "      Index  Year  Month  Avg_Rainfall\n",
       "0         0  1901      1          36.8\n",
       "115     115  1901      2          39.9\n",
       "230     230  1901      3          30.9\n",
       "345     345  1901      4          26.1\n",
       "460     460  1901      5           7.3\n",
       "575     575  1901      6         129.7\n",
       "690     690  1901      7         295.3\n",
       "805     805  1901      8         368.8\n",
       "920     920  1901      9         123.4\n",
       "1035   1035  1901     10          35.2\n",
       "1150   1150  1901     11           0.0\n",
       "1265   1265  1901     12           0.0"
      ]
     },
     "execution_count": 13,
     "metadata": {},
     "output_type": "execute_result"
    }
   ],
   "source": [
    "Month_map={'JAN':1,'FEB':2,'MAR' :3,'APR':4,'MAY':5,'JUN':6,'JUL':7,'AUG':8,'SEP':9,\n",
    "   'OCT':10,'NOV':11,'DEC':12}\n",
    "df2['Month']=df2['Month'].map(Month_map)\n",
    "df2.head(12)"
   ]
  },
  {
   "cell_type": "code",
   "execution_count": 14,
   "id": "b56817d0",
   "metadata": {},
   "outputs": [],
   "source": [
    "df2.drop(columns=\"Index\",inplace=True)"
   ]
  },
  {
   "cell_type": "code",
   "execution_count": 15,
   "id": "372a2484",
   "metadata": {},
   "outputs": [
    {
     "data": {
      "text/html": [
       "<div>\n",
       "<style scoped>\n",
       "    .dataframe tbody tr th:only-of-type {\n",
       "        vertical-align: middle;\n",
       "    }\n",
       "\n",
       "    .dataframe tbody tr th {\n",
       "        vertical-align: top;\n",
       "    }\n",
       "\n",
       "    .dataframe thead th {\n",
       "        text-align: right;\n",
       "    }\n",
       "</style>\n",
       "<table border=\"1\" class=\"dataframe\">\n",
       "  <thead>\n",
       "    <tr style=\"text-align: right;\">\n",
       "      <th></th>\n",
       "      <th>Year</th>\n",
       "      <th>Month</th>\n",
       "      <th>Avg_Rainfall</th>\n",
       "    </tr>\n",
       "  </thead>\n",
       "  <tbody>\n",
       "    <tr>\n",
       "      <th>0</th>\n",
       "      <td>1901</td>\n",
       "      <td>1</td>\n",
       "      <td>36.8</td>\n",
       "    </tr>\n",
       "    <tr>\n",
       "      <th>115</th>\n",
       "      <td>1901</td>\n",
       "      <td>2</td>\n",
       "      <td>39.9</td>\n",
       "    </tr>\n",
       "  </tbody>\n",
       "</table>\n",
       "</div>"
      ],
      "text/plain": [
       "     Year  Month  Avg_Rainfall\n",
       "0    1901      1          36.8\n",
       "115  1901      2          39.9"
      ]
     },
     "execution_count": 15,
     "metadata": {},
     "output_type": "execute_result"
    }
   ],
   "source": [
    "df2.head(2)"
   ]
  },
  {
   "cell_type": "code",
   "execution_count": 17,
   "id": "eadb05d5",
   "metadata": {},
   "outputs": [
    {
     "data": {
      "image/png": "[encoded data removed]",
      "text/plain": [
       "<Figure size 432x288 with 1 Axes>"
      ]
     },
     "metadata": {
      "needs_background": "light"
     },
     "output_type": "display_data"
    }
   ],
   "source": [
    "df2.groupby(\"Year\").sum().plot()\n",
    "plt.show()"
   ]
  },
  {
   "cell_type": "code",
   "execution_count": 19,
   "id": "0f6135f8",
   "metadata": {},
   "outputs": [],
   "source": [
    "X=np.asanyarray(df2[['Year','Month']]).astype('int')\n",
    "y=np.asanyarray(df2['Avg_Rainfall']).astype('int')"
   ]
  },
  {
   "cell_type": "code",
   "execution_count": 20,
   "id": "b15106c6",
   "metadata": {},
   "outputs": [],
   "source": [
    "# splitting the dataset into training and testing\n",
    "from sklearn.model_selection import train_test_split\n",
    "\n",
    "X_train, X_test, y_train, y_test = train_test_split(X, y, test_size=0.2, random_state=10)"
   ]
  },
  {
   "cell_type": "markdown",
   "id": "b2b492c2",
   "metadata": {},
   "source": [
    "## 1) Decision Tree\n"
   ]
  },
  {
   "cell_type": "code",
   "execution_count": 21,
   "id": "d1f05a36",
   "metadata": {},
   "outputs": [
    {
     "data": {
      "text/plain": [
       "DecisionTreeClassifier()"
      ]
     },
     "execution_count": 21,
     "metadata": {},
     "output_type": "execute_result"
    }
   ],
   "source": [
    "from sklearn.tree import DecisionTreeClassifier\n",
    "dtc = DecisionTreeClassifier()\n",
    "dtc.fit(X_train, y_train)"
   ]
  },
  {
   "cell_type": "code",
   "execution_count": 23,
   "id": "100939e8",
   "metadata": {},
   "outputs": [],
   "source": [
    "y_train_predict=dtc.predict(X_train)\n",
    "y_test_predict=dtc.predict(X_test)"
   ]
  },
  {
   "cell_type": "code",
   "execution_count": 24,
   "id": "ccb1447c",
   "metadata": {},
   "outputs": [
    {
     "name": "stdout",
     "output_type": "stream",
     "text": [
      "-------Test Data--------\n",
      "MAE: 49.221014492753625\n",
      "MSE: 6770.576086956522\n",
      "RMSE: 82.28351041950339\n",
      "\n",
      "-------Train Data--------\n",
      "MAE: 0.0\n",
      "MSE: 0.0\n",
      "RMSE: 0.0\n"
     ]
    }
   ],
   "source": [
    "print(\"-------Test Data--------\")\n",
    "print('MAE:', metrics.mean_absolute_error(y_test, y_test_predict))\n",
    "print('MSE:', metrics.mean_squared_error(y_test, y_test_predict))\n",
    "print('RMSE:', np.sqrt(metrics.mean_squared_error(y_test, y_test_predict)))\n",
    "\n",
    "print(\"\\n-------Train Data--------\")\n",
    "print('MAE:', metrics.mean_absolute_error(y_train,y_train_predict))\n",
    "print('MSE:', metrics.mean_squared_error(y_train, y_train_predict))\n",
    "print('RMSE:', np.sqrt(metrics.mean_squared_error(y_train, y_train_predict)))"
   ]
  },
  {
   "cell_type": "code",
   "execution_count": 25,
   "id": "975fee17",
   "metadata": {},
   "outputs": [
    {
     "name": "stdout",
     "output_type": "stream",
     "text": [
      "-----------Training Accuracy------------\n",
      "100.0\n",
      "-----------Testing Accuracy------------\n",
      "8.0\n"
     ]
    }
   ],
   "source": [
    "print(\"-----------Training Accuracy------------\")\n",
    "print(round(dtc.score(X_train,y_train),3)*100)\n",
    "print(\"-----------Testing Accuracy------------\")\n",
    "print(round(dtc.score(X_test,y_test),3)*100)"
   ]
  },
  {
   "cell_type": "markdown",
   "id": "bf047cb1",
   "metadata": {},
   "source": [
    "## b. Random Forest Classifier\n"
   ]
  },
  {
   "cell_type": "code",
   "execution_count": 26,
   "id": "eb562730",
   "metadata": {},
   "outputs": [
    {
     "data": {
      "text/plain": [
       "RandomForestClassifier()"
      ]
     },
     "execution_count": 26,
     "metadata": {},
     "output_type": "execute_result"
    }
   ],
   "source": [
    "from sklearn.ensemble import RandomForestClassifier\n",
    "rfc = RandomForestClassifier()\n",
    "rfc.fit(X_train, y_train)"
   ]
  },
  {
   "cell_type": "code",
   "execution_count": 27,
   "id": "ee72432b",
   "metadata": {},
   "outputs": [],
   "source": [
    "y_train_predict=rfc.predict(X_train)\n",
    "y_test_predict=rfc.predict(X_test)"
   ]
  },
  {
   "cell_type": "code",
   "execution_count": 28,
   "id": "fd7b7ce0",
   "metadata": {},
   "outputs": [
    {
     "name": "stdout",
     "output_type": "stream",
     "text": [
      "-------Test Data--------\n",
      "MAE: 45.71376811594203\n",
      "MSE: 5459.155797101449\n",
      "RMSE: 73.88610016167756\n",
      "\n",
      "-------Train Data--------\n",
      "MAE: 0.0\n",
      "MSE: 0.0\n",
      "RMSE: 0.0\n"
     ]
    }
   ],
   "source": [
    "print(\"-------Test Data--------\")\n",
    "print('MAE:', metrics.mean_absolute_error(y_test, y_test_predict))\n",
    "print('MSE:', metrics.mean_squared_error(y_test, y_test_predict))\n",
    "print('RMSE:', np.sqrt(metrics.mean_squared_error(y_test, y_test_predict)))\n",
    "\n",
    "print(\"\\n-------Train Data--------\")\n",
    "print('MAE:', metrics.mean_absolute_error(y_train,y_train_predict))\n",
    "print('MSE:', metrics.mean_squared_error(y_train, y_train_predict))\n",
    "print('RMSE:', np.sqrt(metrics.mean_squared_error(y_train, y_train_predict)))"
   ]
  },
  {
   "cell_type": "code",
   "execution_count": 29,
   "id": "47b09821",
   "metadata": {},
   "outputs": [
    {
     "name": "stdout",
     "output_type": "stream",
     "text": [
      "-----------Training Accuracy------------\n",
      "100.0\n",
      "-----------Testing Accuracy------------\n",
      "6.9\n"
     ]
    }
   ],
   "source": [
    "print(\"-----------Training Accuracy------------\")\n",
    "print(round(rfc.score(X_train,y_train),3)*100)\n",
    "print(\"-----------Testing Accuracy------------\")\n",
    "print(round(rfc.score(X_test,y_test),3)*100)"
   ]
  },
  {
   "cell_type": "code",
   "execution_count": 30,
   "id": "ccdbd06f",
   "metadata": {},
   "outputs": [],
   "source": [
    "predicted = rfc.predict([[2011,2]])"
   ]
  },
  {
   "cell_type": "code",
   "execution_count": 31,
   "id": "9e8089c4",
   "metadata": {},
   "outputs": [
    {
     "data": {
      "text/plain": [
       "array([1])"
      ]
     },
     "execution_count": 31,
     "metadata": {},
     "output_type": "execute_result"
    }
   ],
   "source": [
    "predicted"
   ]
  },
  {
   "cell_type": "code",
   "execution_count": 32,
   "id": "1be2ace0",
   "metadata": {},
   "outputs": [],
   "source": [
    "predicted = rfc.predict([[2003,3]])"
   ]
  },
  {
   "cell_type": "code",
   "execution_count": 33,
   "id": "3b1bc74f",
   "metadata": {},
   "outputs": [
    {
     "data": {
      "text/plain": [
       "array([3])"
      ]
     },
     "execution_count": 33,
     "metadata": {},
     "output_type": "execute_result"
    }
   ],
   "source": [
    "predicted"
   ]
  },
  {
   "cell_type": "markdown",
   "id": "ba9d3f28",
   "metadata": {},
   "source": [
    "## c. SVC"
   ]
  },
  {
   "cell_type": "code",
   "execution_count": 34,
   "id": "7a57ba59",
   "metadata": {},
   "outputs": [
    {
     "data": {
      "text/plain": [
       "SVC(kernel='linear')"
      ]
     },
     "execution_count": 34,
     "metadata": {},
     "output_type": "execute_result"
    }
   ],
   "source": [
    "from sklearn.svm import SVC\n",
    "svc = SVC(kernel='linear') \n",
    "svc.fit(X_train, y_train)"
   ]
  },
  {
   "cell_type": "code",
   "execution_count": 35,
   "id": "2ad44bfd",
   "metadata": {},
   "outputs": [],
   "source": [
    "y_train_predict=svc.predict(X_train)\n",
    "y_test_predict=svc.predict(X_test)"
   ]
  },
  {
   "cell_type": "code",
   "execution_count": 36,
   "id": "73c7d383",
   "metadata": {},
   "outputs": [
    {
     "name": "stdout",
     "output_type": "stream",
     "text": [
      "-------Test Data--------\n",
      "MAE: 97.98188405797102\n",
      "MSE: 26265.097826086956\n",
      "RMSE: 162.0651036654312\n",
      "\n",
      "-------Train Data--------\n",
      "MAE: 89.10054347826087\n",
      "MSE: 23271.352355072464\n",
      "RMSE: 152.54950788210516\n"
     ]
    }
   ],
   "source": [
    "print(\"-------Test Data--------\")\n",
    "print('MAE:', metrics.mean_absolute_error(y_test, y_test_predict))\n",
    "print('MSE:', metrics.mean_squared_error(y_test, y_test_predict))\n",
    "print('RMSE:', np.sqrt(metrics.mean_squared_error(y_test, y_test_predict)))\n",
    "\n",
    "print(\"\\n-------Train Data--------\")\n",
    "print('MAE:', metrics.mean_absolute_error(y_train,y_train_predict))\n",
    "print('MSE:', metrics.mean_squared_error(y_train, y_train_predict))\n",
    "print('RMSE:', np.sqrt(metrics.mean_squared_error(y_train, y_train_predict)))"
   ]
  },
  {
   "cell_type": "code",
   "execution_count": 37,
   "id": "0a4828d7",
   "metadata": {},
   "outputs": [
    {
     "name": "stdout",
     "output_type": "stream",
     "text": [
      "-----------Training Accuracy------------\n",
      "16.5\n",
      "-----------Testing Accuracy------------\n",
      "15.9\n"
     ]
    }
   ],
   "source": [
    "print(\"-----------Training Accuracy------------\")\n",
    "print(round(svc.score(X_train,y_train),3)*100)\n",
    "print(\"-----------Testing Accuracy------------\")\n",
    "print(round(svc.score(X_test,y_test),3)*100)"
   ]
  },
  {
   "cell_type": "markdown",
   "id": "cfa6a0da",
   "metadata": {},
   "source": [
    "## d. Linear Regression"
   ]
  },
  {
   "cell_type": "code",
   "execution_count": 119,
   "id": "7045f17d",
   "metadata": {},
   "outputs": [
    {
     "data": {
      "text/plain": [
       "LinearRegression()"
      ]
     },
     "execution_count": 119,
     "metadata": {},
     "output_type": "execute_result"
    }
   ],
   "source": [
    "from sklearn.linear_model import LinearRegression\n",
    "LR = LinearRegression()\n",
    "LR.fit(X_train,y_train)"
   ]
  },
  {
   "cell_type": "code",
   "execution_count": 120,
   "id": "16585361",
   "metadata": {},
   "outputs": [],
   "source": [
    "# predicting \n",
    "y_train_predict=LR.predict(X_train)\n",
    "y_test_predict=LR.predict(X_test)"
   ]
  },
  {
   "cell_type": "code",
   "execution_count": 121,
   "id": "4a2fcde9",
   "metadata": {},
   "outputs": [
    {
     "name": "stdout",
     "output_type": "stream",
     "text": [
      "-------Test Data--------\n",
      "MAE: 102.15453952323351\n",
      "MSE: 16248.327064937163\n",
      "RMSE: 127.46892587974986\n",
      "Explained Variance Score: 0.027561502102628865 2\n",
      "\n",
      "-------Train Data--------\n",
      "MAE: 95.80008074338575\n",
      "MSE: 14657.15403937771\n",
      "RMSE: 121.06673382633939\n",
      "\n",
      "-----Training Accuracy-------\n",
      "4.3999999999999995\n",
      "-----Testing Accuracy--------\n",
      "2.5\n"
     ]
    }
   ],
   "source": [
    "print(\"-------Test Data--------\")\n",
    "print('MAE:', metrics.mean_absolute_error(y_test, y_test_predict))\n",
    "print('MSE:', metrics.mean_squared_error(y_test, y_test_predict))\n",
    "print('RMSE:', np.sqrt(metrics.mean_squared_error(y_test, y_test_predict)))\n",
    "print('Explained Variance Score:', metrics.explained_variance_score(y_test, y_test_predict),2)\n",
    "\n",
    "print(\"\\n-------Train Data--------\")\n",
    "print('MAE:', metrics.mean_absolute_error(y_train,y_train_predict))\n",
    "print('MSE:', metrics.mean_squared_error(y_train, y_train_predict))\n",
    "print('RMSE:', np.sqrt(metrics.mean_squared_error(y_train, y_train_predict)))\n",
    "\n",
    "print(\"\\n-----Training Accuracy-------\")\n",
    "print(round(LR.score(X_train,y_train),3)*100)\n",
    "print(\"-----Testing Accuracy--------\")\n",
    "print(round(LR.score(X_test,y_test),3)*100)"
   ]
  },
  {
   "cell_type": "markdown",
   "id": "d9182832",
   "metadata": {},
   "source": [
    "## e. Logistic Regression"
   ]
  },
  {
   "cell_type": "code",
   "execution_count": 122,
   "id": "26b44266",
   "metadata": {},
   "outputs": [
    {
     "name": "stderr",
     "output_type": "stream",
     "text": [
      "C:\\Users\\Admin\\anaconda3\\lib\\site-packages\\sklearn\\linear_model\\_logistic.py:814: ConvergenceWarning: lbfgs failed to converge (status=1):\n",
      "STOP: TOTAL NO. of ITERATIONS REACHED LIMIT.\n",
      "\n",
      "Increase the number of iterations (max_iter) or scale the data as shown in:\n",
      "    https://scikit-learn.org/stable/modules/preprocessing.html\n",
      "Please also refer to the documentation for alternative solver options:\n",
      "    https://scikit-learn.org/stable/modules/linear_model.html#logistic-regression\n",
      "  n_iter_i = _check_optimize_result(\n"
     ]
    },
    {
     "data": {
      "text/plain": [
       "LogisticRegression(random_state=0)"
      ]
     },
     "execution_count": 122,
     "metadata": {},
     "output_type": "execute_result"
    }
   ],
   "source": [
    "from sklearn.linear_model import LogisticRegression\n",
    "lor = LogisticRegression(random_state=0)\n",
    "lor.fit(X_train,y_train)"
   ]
  },
  {
   "cell_type": "code",
   "execution_count": 124,
   "id": "9ffbcf80",
   "metadata": {},
   "outputs": [],
   "source": [
    "y_train_predict=lor.predict(X_train)\n",
    "y_test_predict=lor.predict(X_test)"
   ]
  },
  {
   "cell_type": "code",
   "execution_count": 125,
   "id": "b26af063",
   "metadata": {},
   "outputs": [
    {
     "name": "stdout",
     "output_type": "stream",
     "text": [
      "-------Test Data--------\n",
      "MAE: 97.91304347826087\n",
      "MSE: 26262.463768115944\n",
      "RMSE: 162.05697691897115\n",
      "\n",
      "-------Train Data--------\n",
      "MAE: 89.01811594202898\n",
      "MSE: 23267.681159420288\n",
      "RMSE: 152.53747460680043\n"
     ]
    }
   ],
   "source": [
    "print(\"-------Test Data--------\")\n",
    "print('MAE:', metrics.mean_absolute_error(y_test, y_test_predict))\n",
    "print('MSE:', metrics.mean_squared_error(y_test, y_test_predict))\n",
    "print('RMSE:', np.sqrt(metrics.mean_squared_error(y_test, y_test_predict)))\n",
    "\n",
    "print(\"\\n-------Train Data--------\")\n",
    "print('MAE:', metrics.mean_absolute_error(y_train,y_train_predict))\n",
    "print('MSE:', metrics.mean_squared_error(y_train, y_train_predict))\n",
    "print('RMSE:', np.sqrt(metrics.mean_squared_error(y_train, y_train_predict)))"
   ]
  },
  {
   "cell_type": "code",
   "execution_count": 131,
   "id": "1e6c1dc4",
   "metadata": {},
   "outputs": [
    {
     "name": "stdout",
     "output_type": "stream",
     "text": [
      "\n",
      "-----Training Accuracy-------\n",
      "13.8\n",
      "-----Testing Accuracy--------\n",
      "14.099999999999998\n"
     ]
    }
   ],
   "source": [
    "print(\"\\n-----Training Accuracy-------\")\n",
    "print(round(lor.score(X_train,y_train),3)*100)\n",
    "print(\"-----Testing Accuracy--------\")\n",
    "print(round(lor.score(X_test,y_test),3)*100)"
   ]
  },
  {
   "cell_type": "markdown",
   "id": "9db329cc",
   "metadata": {},
   "source": [
    "## Multi-layer perceptron "
   ]
  },
  {
   "cell_type": "code",
   "execution_count": 126,
   "id": "26118cb4",
   "metadata": {},
   "outputs": [],
   "source": [
    "from sklearn.neural_network import MLPClassifier"
   ]
  },
  {
   "cell_type": "code",
   "execution_count": 127,
   "id": "57bcc80b",
   "metadata": {},
   "outputs": [],
   "source": [
    "mlp = MLPClassifier(solver='lbfgs', alpha=1e-5,hidden_layer_sizes=(5, 2), random_state=1)"
   ]
  },
  {
   "cell_type": "code",
   "execution_count": 128,
   "id": "05321d76",
   "metadata": {},
   "outputs": [
    {
     "data": {
      "text/plain": [
       "MLPClassifier(alpha=1e-05, hidden_layer_sizes=(5, 2), random_state=1,\n",
       "              solver='lbfgs')"
      ]
     },
     "execution_count": 128,
     "metadata": {},
     "output_type": "execute_result"
    }
   ],
   "source": [
    "mlp.fit(X_train,y_train)"
   ]
  },
  {
   "cell_type": "code",
   "execution_count": 129,
   "id": "610eb7e5",
   "metadata": {},
   "outputs": [],
   "source": [
    "y_train_predict=mlp.predict(X_train)\n",
    "y_test_predict=mlp.predict(X_test)"
   ]
  },
  {
   "cell_type": "code",
   "execution_count": 130,
   "id": "3fdc6898",
   "metadata": {},
   "outputs": [
    {
     "name": "stdout",
     "output_type": "stream",
     "text": [
      "-------Test Data--------\n",
      "MAE: 97.98188405797102\n",
      "MSE: 26265.097826086956\n",
      "RMSE: 162.0651036654312\n",
      "\n",
      "-------Train Data--------\n",
      "MAE: 89.10054347826087\n",
      "MSE: 23271.352355072464\n",
      "RMSE: 152.54950788210516\n"
     ]
    }
   ],
   "source": [
    "print(\"-------Test Data--------\")\n",
    "print('MAE:', metrics.mean_absolute_error(y_test, y_test_predict))\n",
    "print('MSE:', metrics.mean_squared_error(y_test, y_test_predict))\n",
    "print('RMSE:', np.sqrt(metrics.mean_squared_error(y_test, y_test_predict)))\n",
    "\n",
    "print(\"\\n-------Train Data--------\")\n",
    "print('MAE:', metrics.mean_absolute_error(y_train,y_train_predict))\n",
    "print('MSE:', metrics.mean_squared_error(y_train, y_train_predict))\n",
    "print('RMSE:', np.sqrt(metrics.mean_squared_error(y_train, y_train_predict)))"
   ]
  },
  {
   "cell_type": "code",
   "execution_count": 132,
   "id": "a93b0a3a",
   "metadata": {},
   "outputs": [
    {
     "name": "stdout",
     "output_type": "stream",
     "text": [
      "\n",
      "-----Training Accuracy-------\n",
      "16.5\n",
      "-----Testing Accuracy--------\n",
      "15.9\n"
     ]
    }
   ],
   "source": [
    "print(\"\\n-----Training Accuracy-------\")\n",
    "print(round(mlp.score(X_train,y_train),3)*100)\n",
    "print(\"-----Testing Accuracy--------\")\n",
    "print(round(mlp.score(X_test,y_test),3)*100)"
   ]
  },
  {
   "cell_type": "markdown",
   "id": "738d3034",
   "metadata": {},
   "source": [
    "# Ensemble Stacking"
   ]
  },
  {
   "cell_type": "markdown",
   "id": "b145f8a8",
   "metadata": {},
   "source": [
    "## Hybrid Model 1"
   ]
  },
  {
   "cell_type": "markdown",
   "id": "734b069a",
   "metadata": {},
   "source": [
    "The stacked model with meta learner = rfc and the weak learners = dtc, svc"
   ]
  },
  {
   "cell_type": "code",
   "execution_count": 38,
   "id": "7b07a4f8",
   "metadata": {},
   "outputs": [],
   "source": [
    "from mlxtend.classifier import StackingClassifier"
   ]
  },
  {
   "cell_type": "code",
   "execution_count": 39,
   "id": "8be356e1",
   "metadata": {},
   "outputs": [
    {
     "name": "stderr",
     "output_type": "stream",
     "text": [
      "C:\\Users\\Admin\\anaconda3\\lib\\site-packages\\xgboost\\compat.py:36: FutureWarning: pandas.Int64Index is deprecated and will be removed from pandas in a future version. Use pandas.Index with the appropriate dtype instead.\n",
      "  from pandas import MultiIndex, Int64Index\n"
     ]
    }
   ],
   "source": [
    "import xgboost as xgb\n",
    "xgb = xgb.XGBClassifier()"
   ]
  },
  {
   "cell_type": "code",
   "execution_count": 40,
   "id": "15877a94",
   "metadata": {},
   "outputs": [
    {
     "data": {
      "text/plain": [
       "StackingClassifier(classifiers=(DecisionTreeClassifier(), SVC(kernel='linear')),\n",
       "                   meta_classifier=RandomForestClassifier())"
      ]
     },
     "execution_count": 40,
     "metadata": {},
     "output_type": "execute_result"
    }
   ],
   "source": [
    "stack = StackingClassifier(classifiers=(dtc, svc),\n",
    "                            meta_classifier=rfc,\n",
    "                            use_probas=False,\n",
    "                            drop_proba_col=None,\n",
    "                            average_probas=False,\n",
    "                            verbose=0,\n",
    "                            use_features_in_secondary=False,\n",
    "                            store_train_meta_features=False,\n",
    "                            use_clones=True,\n",
    "                            fit_base_estimators=True,\n",
    "                            )\n",
    "stack.fit(X_train, y_train)"
   ]
  },
  {
   "cell_type": "code",
   "execution_count": 41,
   "id": "d62a5590",
   "metadata": {},
   "outputs": [],
   "source": [
    "y_train_predict=stack.predict(X_train)\n",
    "y_test_predict=stack.predict(X_test)"
   ]
  },
  {
   "cell_type": "code",
   "execution_count": 42,
   "id": "18bc5260",
   "metadata": {},
   "outputs": [
    {
     "name": "stdout",
     "output_type": "stream",
     "text": [
      "-------Test Data--------\n",
      "MAE: 47.29347826086956\n",
      "MSE: 5938.641304347826\n",
      "RMSE: 77.06258044179306\n",
      "\n",
      "-------Train Data--------\n",
      "MAE: 0.0\n",
      "MSE: 0.0\n",
      "RMSE: 0.0\n"
     ]
    }
   ],
   "source": [
    "print(\"-------Test Data--------\")\n",
    "print('MAE:', metrics.mean_absolute_error(y_test, y_test_predict))\n",
    "print('MSE:', metrics.mean_squared_error(y_test, y_test_predict))\n",
    "print('RMSE:', np.sqrt(metrics.mean_squared_error(y_test, y_test_predict)))\n",
    "\n",
    "print(\"\\n-------Train Data--------\")\n",
    "print('MAE:', metrics.mean_absolute_error(y_train,y_train_predict))\n",
    "print('MSE:', metrics.mean_squared_error(y_train, y_train_predict))\n",
    "print('RMSE:', np.sqrt(metrics.mean_squared_error(y_train, y_train_predict)))"
   ]
  },
  {
   "cell_type": "code",
   "execution_count": 43,
   "id": "4ae8e9d4",
   "metadata": {},
   "outputs": [
    {
     "name": "stdout",
     "output_type": "stream",
     "text": [
      "-----------Training Accuracy------------\n",
      "100.0\n",
      "-----------Testing Accuracy------------\n",
      "8.0\n"
     ]
    }
   ],
   "source": [
    "print(\"-----------Training Accuracy------------\")\n",
    "print(round(stack.score(X_train,y_train),3)*100)\n",
    "print(\"-----------Testing Accuracy------------\")\n",
    "print(round(stack.score(X_test,y_test),3)*100)"
   ]
  },
  {
   "cell_type": "markdown",
   "id": "f11ff4c0",
   "metadata": {},
   "source": [
    "## Hybrid Model 2"
   ]
  },
  {
   "cell_type": "markdown",
   "id": "880e325a",
   "metadata": {},
   "source": [
    "The stacked model with meta learner = dtc and the weak learners = rfc, svc"
   ]
  },
  {
   "cell_type": "code",
   "execution_count": 44,
   "id": "e823891b",
   "metadata": {},
   "outputs": [
    {
     "data": {
      "text/plain": [
       "StackingClassifier(classifiers=(RandomForestClassifier(), SVC(kernel='linear')),\n",
       "                   meta_classifier=DecisionTreeClassifier())"
      ]
     },
     "execution_count": 44,
     "metadata": {},
     "output_type": "execute_result"
    }
   ],
   "source": [
    "stack2 = StackingClassifier(classifiers=(rfc, svc),\n",
    "                            meta_classifier=dtc,\n",
    "                            use_probas=False,\n",
    "                            drop_proba_col=None,\n",
    "                            average_probas=False,\n",
    "                            verbose=0,\n",
    "                            use_features_in_secondary=False,\n",
    "                            store_train_meta_features=False,\n",
    "                            use_clones=True,\n",
    "                            fit_base_estimators=True,\n",
    "                            )\n",
    "stack2.fit(X_train, y_train)"
   ]
  },
  {
   "cell_type": "code",
   "execution_count": 45,
   "id": "833d8465",
   "metadata": {},
   "outputs": [],
   "source": [
    "y_train_predict=stack2.predict(X_train)\n",
    "y_test_predict=stack2.predict(X_test)"
   ]
  },
  {
   "cell_type": "code",
   "execution_count": 46,
   "id": "abac0b6a",
   "metadata": {},
   "outputs": [
    {
     "name": "stdout",
     "output_type": "stream",
     "text": [
      "-------Test Data--------\n",
      "MAE: 45.5036231884058\n",
      "MSE: 5418.155797101449\n",
      "RMSE: 73.60812317333902\n",
      "\n",
      "-------Train Data--------\n",
      "MAE: 0.0\n",
      "MSE: 0.0\n",
      "RMSE: 0.0\n"
     ]
    }
   ],
   "source": [
    "print(\"-------Test Data--------\")\n",
    "print('MAE:', metrics.mean_absolute_error(y_test, y_test_predict))\n",
    "print('MSE:', metrics.mean_squared_error(y_test, y_test_predict))\n",
    "print('RMSE:', np.sqrt(metrics.mean_squared_error(y_test, y_test_predict)))\n",
    "\n",
    "print(\"\\n-------Train Data--------\")\n",
    "print('MAE:', metrics.mean_absolute_error(y_train,y_train_predict))\n",
    "print('MSE:', metrics.mean_squared_error(y_train, y_train_predict))\n",
    "print('RMSE:', np.sqrt(metrics.mean_squared_error(y_train, y_train_predict)))"
   ]
  },
  {
   "cell_type": "code",
   "execution_count": 47,
   "id": "358e9002",
   "metadata": {},
   "outputs": [
    {
     "name": "stdout",
     "output_type": "stream",
     "text": [
      "-----------Training Accuracy------------\n",
      "100.0\n",
      "-----------Testing Accuracy------------\n",
      "6.9\n"
     ]
    }
   ],
   "source": [
    "print(\"-----------Training Accuracy------------\")\n",
    "print(round(stack2.score(X_train,y_train),3)*100)\n",
    "print(\"-----------Testing Accuracy------------\")\n",
    "print(round(stack2.score(X_test,y_test),3)*100)"
   ]
  },
  {
   "cell_type": "markdown",
   "id": "c8f46a32",
   "metadata": {},
   "source": [
    "## Hybrid Model 3"
   ]
  },
  {
   "cell_type": "markdown",
   "id": "925179f6",
   "metadata": {},
   "source": [
    "meta learner = svc and the weak learners = rfc, dtc and xgboost"
   ]
  },
  {
   "cell_type": "code",
   "execution_count": 48,
   "id": "5ac35505",
   "metadata": {},
   "outputs": [
    {
     "data": {
      "text/plain": [
       "StackingClassifier(classifiers=(RandomForestClassifier(), SVC(kernel='linear')),\n",
       "                   meta_classifier=SVC(kernel='linear'))"
      ]
     },
     "execution_count": 48,
     "metadata": {},
     "output_type": "execute_result"
    }
   ],
   "source": [
    "stack3 = StackingClassifier(classifiers=(rfc, svc),\n",
    "                            meta_classifier=svc,\n",
    "                            use_probas=False,\n",
    "                            drop_proba_col=None,\n",
    "                            average_probas=False,\n",
    "                            verbose=0,\n",
    "                            use_features_in_secondary=False,\n",
    "                            store_train_meta_features=False,\n",
    "                            use_clones=True,\n",
    "                            fit_base_estimators=True,\n",
    "                            )\n",
    "stack3.fit(X_train, y_train)"
   ]
  },
  {
   "cell_type": "code",
   "execution_count": 49,
   "id": "75543ba9",
   "metadata": {},
   "outputs": [],
   "source": [
    "y_train_predict=stack3.predict(X_train)\n",
    "y_test_predict=stack3.predict(X_test)"
   ]
  },
  {
   "cell_type": "code",
   "execution_count": 50,
   "id": "a6be7587",
   "metadata": {},
   "outputs": [
    {
     "name": "stdout",
     "output_type": "stream",
     "text": [
      "-------Test Data--------\n",
      "MAE: 46.416666666666664\n",
      "MSE: 5637.083333333333\n",
      "RMSE: 75.08051234064224\n",
      "\n",
      "-------Train Data--------\n",
      "MAE: 0.036231884057971016\n",
      "MSE: 0.036231884057971016\n",
      "RMSE: 0.19034674690672027\n"
     ]
    }
   ],
   "source": [
    "print(\"-------Test Data--------\")\n",
    "print('MAE:', metrics.mean_absolute_error(y_test, y_test_predict))\n",
    "print('MSE:', metrics.mean_squared_error(y_test, y_test_predict))\n",
    "print('RMSE:', np.sqrt(metrics.mean_squared_error(y_test, y_test_predict)))\n",
    "\n",
    "print(\"\\n-------Train Data--------\")\n",
    "print('MAE:', metrics.mean_absolute_error(y_train,y_train_predict))\n",
    "print('MSE:', metrics.mean_squared_error(y_train, y_train_predict))\n",
    "print('RMSE:', np.sqrt(metrics.mean_squared_error(y_train, y_train_predict)))"
   ]
  },
  {
   "cell_type": "code",
   "execution_count": 51,
   "id": "871b5e0a",
   "metadata": {},
   "outputs": [
    {
     "name": "stdout",
     "output_type": "stream",
     "text": [
      "-----------Training Accuracy------------\n",
      "96.39999999999999\n",
      "-----------Testing Accuracy------------\n",
      "6.9\n"
     ]
    }
   ],
   "source": [
    "print(\"-----------Training Accuracy------------\")\n",
    "print(round(stack3.score(X_train,y_train),3)*100)\n",
    "print(\"-----------Testing Accuracy------------\")\n",
    "print(round(stack3.score(X_test,y_test),3)*100)"
   ]
  },
  {
   "cell_type": "markdown",
   "id": "40775eeb",
   "metadata": {},
   "source": [
    "## Hybrid Model 4"
   ]
  },
  {
   "cell_type": "code",
   "execution_count": 52,
   "id": "d84b5f14",
   "metadata": {},
   "outputs": [],
   "source": [
    "import xgboost as xgb\n",
    "xgb = xgb.XGBClassifier()"
   ]
  },
  {
   "cell_type": "code",
   "execution_count": 53,
   "id": "71c5b458",
   "metadata": {},
   "outputs": [
    {
     "name": "stderr",
     "output_type": "stream",
     "text": [
      "C:\\Users\\Admin\\anaconda3\\lib\\site-packages\\xgboost\\sklearn.py:1224: UserWarning: The use of label encoder in XGBClassifier is deprecated and will be removed in a future release. To remove this warning, do the following: 1) Pass option use_label_encoder=False when constructing XGBClassifier object; and 2) Encode your labels (y) as integers starting with 0, i.e. 0, 1, 2, ..., [num_class - 1].\n",
      "  warnings.warn(label_encoder_deprecation_msg, UserWarning)\n"
     ]
    },
    {
     "name": "stdout",
     "output_type": "stream",
     "text": [
      "[19:11:42] WARNING: C:\\Windows\\Temp\\abs_557yfx631l\\croots\\recipe\\xgboost-split_1659548953302\\work\\src\\learner.cc:1115: Starting in XGBoost 1.3.0, the default evaluation metric used with the objective 'multi:softprob' was changed from 'merror' to 'mlogloss'. Explicitly set eval_metric if you'd like to restore the old behavior.\n"
     ]
    },
    {
     "data": {
      "text/plain": [
       "XGBClassifier(base_score=0.5, booster='gbtree', colsample_bylevel=1,\n",
       "              colsample_bynode=1, colsample_bytree=1, enable_categorical=False,\n",
       "              gamma=0, gpu_id=-1, importance_type=None,\n",
       "              interaction_constraints='', learning_rate=0.300000012,\n",
       "              max_delta_step=0, max_depth=6, min_child_weight=1, missing=nan,\n",
       "              monotone_constraints='()', n_estimators=100, n_jobs=8,\n",
       "              num_parallel_tree=1, objective='multi:softprob', predictor='auto',\n",
       "              random_state=0, reg_alpha=0, reg_lambda=1, scale_pos_weight=None,\n",
       "              subsample=1, tree_method='exact', validate_parameters=1,\n",
       "              verbosity=None)"
      ]
     },
     "execution_count": 53,
     "metadata": {},
     "output_type": "execute_result"
    }
   ],
   "source": [
    "xgb.fit(X_train, y_train)"
   ]
  },
  {
   "cell_type": "code",
   "execution_count": 54,
   "id": "86e279b6",
   "metadata": {},
   "outputs": [],
   "source": [
    "y_train_predict=xgb.predict(X_train)\n",
    "y_test_predict=xgb.predict(X_test)"
   ]
  },
  {
   "cell_type": "code",
   "execution_count": 101,
   "id": "6821cdbd",
   "metadata": {},
   "outputs": [
    {
     "name": "stdout",
     "output_type": "stream",
     "text": [
      "-------Test Data--------\n",
      "MAE: 62.27536231884058\n",
      "MSE: 11760.985507246376\n",
      "RMSE: 108.4480774714166\n",
      "\n",
      "-------Train Data--------\n",
      "MAE: 12.201086956521738\n",
      "MSE: 1889.0851449275362\n",
      "RMSE: 43.463607132031\n"
     ]
    }
   ],
   "source": [
    "print(\"-------Test Data--------\")\n",
    "print('MAE:', metrics.mean_absolute_error(y_test, y_test_predict))\n",
    "print('MSE:', metrics.mean_squared_error(y_test, y_test_predict))\n",
    "print('RMSE:', np.sqrt(metrics.mean_squared_error(y_test, y_test_predict)))\n",
    "\n",
    "print(\"\\n-------Train Data--------\")\n",
    "print('MAE:', metrics.mean_absolute_error(y_train,y_train_predict))\n",
    "print('MSE:', metrics.mean_squared_error(y_train, y_train_predict))\n",
    "print('RMSE:', np.sqrt(metrics.mean_squared_error(y_train, y_train_predict)))"
   ]
  },
  {
   "cell_type": "code",
   "execution_count": 55,
   "id": "fbc2bfff",
   "metadata": {},
   "outputs": [
    {
     "name": "stdout",
     "output_type": "stream",
     "text": [
      "-----------Training Accuracy------------\n",
      "84.7\n",
      "-----------Testing Accuracy------------\n",
      "9.8\n"
     ]
    }
   ],
   "source": [
    "print(\"-----------Training Accuracy------------\")\n",
    "print(round(xgb.score(X_train,y_train),3)*100)\n",
    "print(\"-----------Testing Accuracy------------\")\n",
    "print(round(xgb.score(X_test,y_test),3)*100)"
   ]
  },
  {
   "cell_type": "markdown",
   "id": "3a2030b5",
   "metadata": {},
   "source": [
    "## Voting Classifier and Pipeline (1)"
   ]
  },
  {
   "cell_type": "code",
   "execution_count": 56,
   "id": "936ef5e8",
   "metadata": {},
   "outputs": [],
   "source": [
    "from sklearn.ensemble import VotingClassifier\n",
    "from sklearn.pipeline import Pipeline\n",
    "\n",
    "from sklearn.model_selection import cross_val_score\n",
    "from sklearn.model_selection import RepeatedStratifiedKFold"
   ]
  },
  {
   "cell_type": "code",
   "execution_count": 76,
   "id": "5fbe2cb4",
   "metadata": {},
   "outputs": [],
   "source": [
    "hybrid_models = list()"
   ]
  },
  {
   "cell_type": "code",
   "execution_count": 77,
   "id": "63ae42d7",
   "metadata": {},
   "outputs": [],
   "source": [
    "hm1_pipe = Pipeline([('m',stack)])\n",
    " \n",
    "hybrid_models.append(('Hybrid Model 1',hm1_pipe))"
   ]
  },
  {
   "cell_type": "code",
   "execution_count": 78,
   "id": "a621be59",
   "metadata": {},
   "outputs": [],
   "source": [
    "hm2_pipe = Pipeline([('m',stack2)])\n",
    " \n",
    "hybrid_models.append(('Hybrid Model 2',hm2_pipe))"
   ]
  },
  {
   "cell_type": "code",
   "execution_count": 79,
   "id": "478a7c8f",
   "metadata": {},
   "outputs": [],
   "source": [
    "hm3_pipe = Pipeline([('m',stack3)])\n",
    " \n",
    "hybrid_models.append(('Hybrid Model 3',hm3_pipe))"
   ]
  },
  {
   "cell_type": "code",
   "execution_count": 80,
   "id": "68442264",
   "metadata": {},
   "outputs": [],
   "source": [
    "hm4_pipe = Pipeline([('m',xgb)])\n",
    " \n",
    "hybrid_models.append(('Hybrid Model 4',hm4_pipe))"
   ]
  },
  {
   "cell_type": "code",
   "execution_count": 81,
   "id": "7ade7068",
   "metadata": {},
   "outputs": [],
   "source": [
    "voting_ensemble = VotingClassifier(estimators=hybrid_models, voting='hard')"
   ]
  },
  {
   "cell_type": "code",
   "execution_count": 82,
   "id": "dc973413",
   "metadata": {},
   "outputs": [
    {
     "data": {
      "text/plain": [
       "[('Hybrid Model 1',\n",
       "  Pipeline(steps=[('m',\n",
       "                   StackingClassifier(classifiers=(DecisionTreeClassifier(),\n",
       "                                                   SVC(kernel='linear')),\n",
       "                                      meta_classifier=RandomForestClassifier()))])),\n",
       " ('Hybrid Model 2',\n",
       "  Pipeline(steps=[('m',\n",
       "                   StackingClassifier(classifiers=(RandomForestClassifier(),\n",
       "                                                   SVC(kernel='linear')),\n",
       "                                      meta_classifier=DecisionTreeClassifier()))])),\n",
       " ('Hybrid Model 3',\n",
       "  Pipeline(steps=[('m',\n",
       "                   StackingClassifier(classifiers=(RandomForestClassifier(),\n",
       "                                                   SVC(kernel='linear')),\n",
       "                                      meta_classifier=SVC(kernel='linear')))])),\n",
       " ('Hybrid Model 4',\n",
       "  Pipeline(steps=[('m',\n",
       "                   XGBClassifier(base_score=0.5, booster='gbtree',\n",
       "                                 colsample_bylevel=1, colsample_bynode=1,\n",
       "                                 colsample_bytree=1, enable_categorical=False,\n",
       "                                 gamma=0, gpu_id=-1, importance_type=None,\n",
       "                                 interaction_constraints='',\n",
       "                                 learning_rate=0.300000012, max_delta_step=0,\n",
       "                                 max_depth=6, min_child_weight=1, missing=nan,\n",
       "                                 monotone_constraints='()', n_estimators=100,\n",
       "                                 n_jobs=8, num_parallel_tree=1,\n",
       "                                 objective='multi:softprob', predictor='auto',\n",
       "                                 random_state=0, reg_alpha=0, reg_lambda=1,\n",
       "                                 scale_pos_weight=None, subsample=1,\n",
       "                                 tree_method='exact', validate_parameters=1,\n",
       "                                 verbosity=None))]))]"
      ]
     },
     "execution_count": 82,
     "metadata": {},
     "output_type": "execute_result"
    }
   ],
   "source": [
    "hybrid_models"
   ]
  },
  {
   "cell_type": "code",
   "execution_count": 92,
   "id": "b0692b94",
   "metadata": {},
   "outputs": [
    {
     "name": "stderr",
     "output_type": "stream",
     "text": [
      "C:\\Users\\Admin\\anaconda3\\lib\\site-packages\\sklearn\\model_selection\\_split.py:676: UserWarning: The least populated class in y has only 1 members, which is less than n_splits=2.\n",
      "  warnings.warn(\n",
      "C:\\Users\\Admin\\anaconda3\\lib\\site-packages\\sklearn\\model_selection\\_split.py:676: UserWarning: The least populated class in y has only 1 members, which is less than n_splits=2.\n",
      "  warnings.warn(\n"
     ]
    }
   ],
   "source": [
    "cross_val = RepeatedStratifiedKFold(n_splits=2, n_repeats=2, random_state=1)\n",
    "n_scores = cross_val_score(voting_ensemble, X, y, scoring='accuracy', cv=cross_val, n_jobs=-1)"
   ]
  },
  {
   "cell_type": "code",
   "execution_count": 93,
   "id": "8aef056a",
   "metadata": {},
   "outputs": [
    {
     "data": {
      "text/plain": [
       "array([0.07971014, 0.07826087, 0.0826087 , 0.07971014])"
      ]
     },
     "execution_count": 93,
     "metadata": {},
     "output_type": "execute_result"
    }
   ],
   "source": [
    "n_scores"
   ]
  },
  {
   "cell_type": "code",
   "execution_count": 94,
   "id": "b7d2dc0c",
   "metadata": {},
   "outputs": [
    {
     "data": {
      "text/plain": [
       "0.08007246376811594"
      ]
     },
     "execution_count": 94,
     "metadata": {},
     "output_type": "execute_result"
    }
   ],
   "source": [
    "n_scores.mean()"
   ]
  },
  {
   "cell_type": "markdown",
   "id": "36260a37",
   "metadata": {},
   "source": [
    "## Voting Classifier and Pipeline (2)"
   ]
  },
  {
   "cell_type": "code",
   "execution_count": 110,
   "id": "b23416d3",
   "metadata": {},
   "outputs": [],
   "source": [
    "ml_models = list()"
   ]
  },
  {
   "cell_type": "code",
   "execution_count": 111,
   "id": "08c75be0",
   "metadata": {},
   "outputs": [],
   "source": [
    "dtc_pipe = Pipeline([('m',dtc)])\n",
    "ml_models.append(('decision',dtc_pipe))"
   ]
  },
  {
   "cell_type": "code",
   "execution_count": 112,
   "id": "cb9dc819",
   "metadata": {},
   "outputs": [],
   "source": [
    "rfc_pipe = Pipeline([('m',rfc)])\n",
    "ml_models.append(('RandomForest',rfc_pipe))"
   ]
  },
  {
   "cell_type": "code",
   "execution_count": 113,
   "id": "3afc8386",
   "metadata": {},
   "outputs": [],
   "source": [
    "svc_pipe = Pipeline([('m',svc)])\n",
    "ml_models.append(('svc',svc_pipe))"
   ]
  },
  {
   "cell_type": "code",
   "execution_count": 114,
   "id": "14c407fb",
   "metadata": {},
   "outputs": [],
   "source": [
    "# voting classifier\n",
    "voting_ensemble = VotingClassifier(estimators=ml_models, voting='hard')"
   ]
  },
  {
   "cell_type": "code",
   "execution_count": 115,
   "id": "05f1bdbf",
   "metadata": {},
   "outputs": [
    {
     "data": {
      "text/plain": [
       "[('decision', Pipeline(steps=[('m', DecisionTreeClassifier())])),\n",
       " ('RandomForest', Pipeline(steps=[('m', RandomForestClassifier())])),\n",
       " ('svc', Pipeline(steps=[('m', SVC(kernel='linear'))]))]"
      ]
     },
     "execution_count": 115,
     "metadata": {},
     "output_type": "execute_result"
    }
   ],
   "source": [
    "ml_models"
   ]
  },
  {
   "cell_type": "code",
   "execution_count": 116,
   "id": "8ce5aac1",
   "metadata": {},
   "outputs": [
    {
     "name": "stderr",
     "output_type": "stream",
     "text": [
      "C:\\Users\\Admin\\anaconda3\\lib\\site-packages\\sklearn\\model_selection\\_split.py:676: UserWarning: The least populated class in y has only 1 members, which is less than n_splits=9.\n",
      "  warnings.warn(\n",
      "C:\\Users\\Admin\\anaconda3\\lib\\site-packages\\sklearn\\model_selection\\_split.py:676: UserWarning: The least populated class in y has only 1 members, which is less than n_splits=9.\n",
      "  warnings.warn(\n"
     ]
    }
   ],
   "source": [
    "cross_val = RepeatedStratifiedKFold(n_splits=9, n_repeats=2, random_state=1)\n",
    "n_scores = cross_val_score(voting_ensemble, X, y, scoring='accuracy', cv=cross_val, n_jobs=-1)"
   ]
  },
  {
   "cell_type": "code",
   "execution_count": 117,
   "id": "cc736aa5",
   "metadata": {},
   "outputs": [
    {
     "data": {
      "text/plain": [
       "array([0.11038961, 0.11688312, 0.11688312, 0.09803922, 0.11111111,\n",
       "       0.10457516, 0.11764706, 0.08496732, 0.08496732, 0.08441558,\n",
       "       0.08441558, 0.09090909, 0.07843137, 0.12418301, 0.11111111,\n",
       "       0.10457516, 0.09803922, 0.09150327])"
      ]
     },
     "execution_count": 117,
     "metadata": {},
     "output_type": "execute_result"
    }
   ],
   "source": [
    "n_scores"
   ]
  },
  {
   "cell_type": "code",
   "execution_count": 118,
   "id": "b9c079fe",
   "metadata": {},
   "outputs": [
    {
     "data": {
      "text/plain": [
       "0.10072480170519386"
      ]
     },
     "execution_count": 118,
     "metadata": {},
     "output_type": "execute_result"
    }
   ],
   "source": [
    "n_scores.mean()"
   ]
  }
 ],
 "metadata": {
  "kernelspec": {
   "display_name": "Python 3 (ipykernel)",
   "language": "python",
   "name": "python3"
  },
  "language_info": {
   "codemirror_mode": {
    "name": "ipython",
    "version": 3
   },
   "file_extension": ".py",
   "mimetype": "text/x-python",
   "name": "python",
   "nbconvert_exporter": "python",
   "pygments_lexer": "ipython3",
   "version": "3.9.12"
  }
 },
 "nbformat": 4,
 "nbformat_minor": 5
}
